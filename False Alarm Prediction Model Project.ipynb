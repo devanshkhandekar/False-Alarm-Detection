{
 "cells": [
  {
   "cell_type": "markdown",
   "metadata": {},
   "source": [
    "### False Alarm Prediction Model for leakage detection of Hydrogen Sulphide Gas in Chemical Industry"
   ]
  },
  {
   "cell_type": "markdown",
   "metadata": {
    "raw_mimetype": "text/markdown"
   },
   "source": [
    "Flask is a web framework.Flask provides us with tools, libraries and technologies that allows us to build a web application.\n",
    "Importing Flask module form flask library,Importing jsonify which converts the data into json format.Importing request module which handles HTTP requests.\n"
   ]
  },
  {
   "cell_type": "code",
   "execution_count": null,
   "metadata": {},
   "outputs": [],
   "source": [
    "from flask import Flask,jsonify,request"
   ]
  },
  {
   "cell_type": "markdown",
   "metadata": {},
   "source": [
    "Object of Flask Module is created for our WSGI application 'app'. "
   ]
  },
  {
   "cell_type": "code",
   "execution_count": null,
   "metadata": {},
   "outputs": [],
   "source": [
    "app = Flask(__name__)"
   ]
  },
  {
   "cell_type": "markdown",
   "metadata": {},
   "source": [
    "1. Importing necessary ML/DS libraries.\n",
    "\n",
    "2. Numpy library is imported for array operations of the data with alias 'np'.\n",
    "\n",
    "3. Pandas library is imported for structuring data into tables and dataframes for operations with alias 'pd'.\n",
    "\n",
    "4. Importing Gaussian Naive Bayes module from SK learn library which is responsible for developing Machine Learning.\n",
    "\n",
    "5. Importing joblib (serialization library to save the state of the model) to save the model in a pickle file which can be later loaded and used multiple times."
   ]
  },
  {
   "cell_type": "code",
   "execution_count": 3,
   "metadata": {},
   "outputs": [],
   "source": [
    "import numpy as np\n",
    "import pandas as pd\n",
    "from sklearn.naive_bayes import GaussianNB\n",
    "from sklearn.externals import joblib"
   ]
  },
  {
   "cell_type": "markdown",
   "metadata": {},
   "source": [
    "The route() function of the Flask class is a decorator, which tells the application which URL should call the associated function. ‘/train’ URL is bound with train function. Hence, when the home page of web server is opened in browser, the output of this function will be rendered.\n",
    "Creating a function named 'train' to train the model.\n",
    "1. Reading the data from excel file and storing in a variable named df_train.\n",
    "2. Splitting the data in X and y variables which corresponds to the independent columns and dependent column respectively.\n",
    "3. Creating an object of the Classifier Model(here: Gaussian NB).\n",
    "4. Fitting the X and y columns in the model with fit function of the classifier.\n",
    "5. Saving the state of the model in a pickle file with file name 'filename.pkl'.\n",
    "6. Displaying a model trained message."
   ]
  },
  {
   "cell_type": "code",
   "execution_count": 4,
   "metadata": {},
   "outputs": [],
   "source": [
    "@app.route('/train')\n",
    "def train():\n",
    "    df_train = pd.read_excel('False Alarm Cases.xlsx')\n",
    "    df_train = df_train.iloc[:, 1:8]\n",
    "    X = df_train.iloc[:,0:6]\n",
    "    y = df_train['Spuriosity Index(0/1)']\n",
    "    \n",
    "    classifier = GaussianNB()\n",
    "    classifier.fit(X, y)\n",
    "    joblib.dump(classifier, 'filename.pkl')\n",
    "    return 'Model has been Trained'"
   ]
  },
  {
   "cell_type": "markdown",
   "metadata": {},
   "source": [
    "‘/train’ URL is bound with test function with a type of request explicitly selected as 'POST'.\n",
    "'test' function is created. \n",
    "1. Trained model is loaded and called in variable named 'clf'.\n",
    "2. Test data in the form of json format is passed via get_json function.\n",
    "3. All independent columns are independently assigned to a variable and is combined in a list to form an array of test data.\n",
    "4. The array of test data is reshaped and is formed into a dataframe.\n",
    "5. Predict function of the classifier is applied on the test dataframe.\n",
    "6. The condition based on the output of the classifier is displayed."
   ]
  },
  {
   "cell_type": "code",
   "execution_count": null,
   "metadata": {},
   "outputs": [
    {
     "name": "stdout",
     "output_type": "stream",
     "text": [
      " * Serving Flask app \"__main__\" (lazy loading)\n",
      " * Environment: production\n",
      "   WARNING: Do not use the development server in a production environment.\n",
      "   Use a production WSGI server instead.\n",
      " * Debug mode: off\n"
     ]
    },
    {
     "name": "stderr",
     "output_type": "stream",
     "text": [
      " * Running on http://127.0.0.1:5000/ (Press CTRL+C to quit)\n",
      "127.0.0.1 - - [06/Aug/2019 09:01:10] \"\u001b[33mGET / HTTP/1.1\u001b[0m\" 404 -\n",
      "127.0.0.1 - - [06/Aug/2019 09:01:10] \"\u001b[33mGET /robots.txt HTTP/1.1\u001b[0m\" 404 -\n",
      "127.0.0.1 - - [06/Aug/2019 09:01:10] \"\u001b[33mGET /favicon.ico HTTP/1.1\u001b[0m\" 404 -\n",
      "127.0.0.1 - - [06/Aug/2019 09:01:31] \"\u001b[33mGET / HTTP/1.1\u001b[0m\" 404 -\n",
      "127.0.0.1 - - [06/Aug/2019 09:01:31] \"\u001b[33mGET /robots.txt HTTP/1.1\u001b[0m\" 404 -\n",
      "127.0.0.1 - - [06/Aug/2019 09:01:32] \"\u001b[33mGET /favicon.ico HTTP/1.1\u001b[0m\" 404 -\n"
     ]
    }
   ],
   "source": [
    "@app.route('/test', methods=['POST'])\n",
    "def test():\n",
    "    clf = joblib.load('filename.pkl')\n",
    "    \n",
    "    request_data = request.get_json()\n",
    "    \n",
    "    a = request_data['Ambient Temperature']\n",
    "    b = request_data['Calibration']\n",
    "    c = request_data['Unwanted substance deposition']\n",
    "    d = request_data['Humidity']\n",
    "    e = request_data['H2S Content']\n",
    "    f = request_data['detected by']\n",
    "    l = [a,b,c,d,e,f]\n",
    "    narr = np.array(l)\n",
    "    narr = narr.reshape(1,6)\n",
    "    df_test = pd.DataFrame(narr, columns = ['Ambient Temperature', 'Calibration', 'Unwanted substance deposition','Humidity', 'H2S Content', 'detected by'])\n",
    "\n",
    "    ypred = clf.predict(df_test)\n",
    "    \n",
    "    if ypred ==1:\n",
    "        result = 'Danger'\n",
    "\n",
    "    else:\n",
    "        result='No Danger'\n",
    "\n",
    "    return jsonify({'Recommendation':result})\n",
    "\n",
    "app.run(port=5000)"
   ]
  },
  {
   "cell_type": "code",
   "execution_count": null,
   "metadata": {},
   "outputs": [],
   "source": []
  }
 ],
 "metadata": {
  "celltoolbar": "Raw Cell Format",
  "kernelspec": {
   "display_name": "Python 3",
   "language": "python",
   "name": "python3"
  },
  "language_info": {
   "codemirror_mode": {
    "name": "ipython",
    "version": 3
   },
   "file_extension": ".py",
   "mimetype": "text/x-python",
   "name": "python",
   "nbconvert_exporter": "python",
   "pygments_lexer": "ipython3",
   "version": "3.7.1"
  }
 },
 "nbformat": 4,
 "nbformat_minor": 2
}
